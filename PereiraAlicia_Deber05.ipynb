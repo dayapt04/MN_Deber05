{
 "cells": [
  {
   "cell_type": "raw",
   "id": "15c6aea2-8271-447e-aaba-71850df1b5e2",
   "metadata": {},
   "source": [
    "---\n",
    "title: \"Métodos Numéricos - DEBER 05 -  Método de Newton y la Secante\"\n",
    "author: \"Alicia Pereira\"\n",
    "lang: es\n",
    "format:\n",
    "  pdf:\n",
    "    code-overflow: wrap\n",
    "    number-sections: true\n",
    "    paginate: true\n",
    "    toc: true\n",
    "    links-color: blue\n",
    "    toc-title: \"Tabla de Contenidos\"  \n",
    "    tables: true\n",
    "    table-width: full\n",
    "    images-centered: true\n",
    "    code-block-theme: \"monokai\"\n",
    "execute:\n",
    "  echo: true\n",
    "  error: false\n",
    "  warning: false\n",
    "jupyter: python3\n",
    "---"
   ]
  },
  {
   "cell_type": "markdown",
   "id": "a5fd8e73-aab7-48fb-addd-ca21a388ac80",
   "metadata": {},
   "source": [
    "## EJERCICIO 1\n",
    "\n",
    "Sea $f(x) = -x^3 - \\cos{x}$ y $p_0 = -1$. Use el método de Newton y de la Secante para encontrar $p_1$. ¿Se podría usar $p_0 = 0$?"
   ]
  },
  {
   "cell_type": "markdown",
   "id": "4b564d38-24c6-4c4d-81b2-70a80a9d84ae",
   "metadata": {},
   "source": [
    "Para la resolución del ejercicio se plantea el uso de la librería scipy, con el objetivo de utilizar el algoritmo de **método de Newton**."
   ]
  },
  {
   "cell_type": "code",
   "execution_count": 1,
   "id": "090deddc-ccb7-4c13-8de9-8cffdb1101cc",
   "metadata": {},
   "outputs": [],
   "source": [
    "from scipy.optimize import newton\n",
    "import math"
   ]
  },
  {
   "cell_type": "markdown",
   "id": "bd925553-4cd2-43c9-b08a-a8414a082c6c",
   "metadata": {},
   "source": [
    "Como primer punto, se necesita la derivada de la función propuesta:\n",
    "\n",
    "$$\n",
    "f'(x) = -3x^2 + \\sin{(x)}\n",
    "$$\n",
    "\n",
    "Con esto, se llama a la función Newton con los parámetros obtenidos:\n"
   ]
  },
  {
   "cell_type": "code",
   "execution_count": 2,
   "id": "39acdd39-818e-4de0-bea1-21b54d97487f",
   "metadata": {},
   "outputs": [
    {
     "name": "stdout",
     "output_type": "stream",
     "text": [
      "Método de Newton: -0.8654740331016144\n"
     ]
    }
   ],
   "source": [
    "def func(x):\n",
    "    return -x**3 - math.cos(x)\n",
    "def fprime(x):\n",
    "    return -3*x**2 + math.sin(x)\n",
    "\n",
    "p1 = newton(func = func, x0 = -1 , fprime=fprime)\n",
    "print(\"Método de Newton: \" + str(p1))"
   ]
  },
  {
   "cell_type": "markdown",
   "id": "a386bb0e-f6bb-414b-bc16-75e330136955",
   "metadata": {},
   "source": [
    "El **método de la secante** en cambio, no utiliza la derivada de la función. "
   ]
  },
  {
   "cell_type": "code",
   "execution_count": 3,
   "id": "9ce738fd-5b7e-4fab-8cea-7c1739e03c22",
   "metadata": {},
   "outputs": [
    {
     "name": "stdout",
     "output_type": "stream",
     "text": [
      "Método de la Secante: -0.8654740331016144\n"
     ]
    }
   ],
   "source": [
    "p1 = newton(func = func, x0 = -1 , fprime=None)\n",
    "print(\"Método de la Secante: \" + str(p1))"
   ]
  },
  {
   "cell_type": "markdown",
   "id": "92b75218-5383-4dbe-898e-03adfc875985",
   "metadata": {},
   "source": [
    "**¿Se puede utilizar el cero como $p_0$?**"
   ]
  },
  {
   "cell_type": "code",
   "execution_count": 4,
   "id": "9a77af1e-be68-443c-a4e6-b071e767c9c1",
   "metadata": {},
   "outputs": [
    {
     "name": "stdout",
     "output_type": "stream",
     "text": [
      "Derivative was zero. Failed to converge after 1 iterations, value is 0.0.\n"
     ]
    }
   ],
   "source": [
    "\n",
    "try:\n",
    "    p1 = newton(func = func, x0 = 0, fprime=fprime)\n",
    "except RuntimeError as e:\n",
    "    print(e)"
   ]
  },
  {
   "cell_type": "markdown",
   "id": "8ea43652-219c-4060-ab27-c4f6ca35cdcf",
   "metadata": {},
   "source": [
    "No se puede utilizar al cero como $p_0$ dado que la función nunca converge en ese punto."
   ]
  },
  {
   "cell_type": "markdown",
   "id": "a0bfffe1-dc12-4830-a9f8-bca92eb5ab49",
   "metadata": {},
   "source": [
    "## EJERCICIO 2\n",
    "\n",
    "Encuentre soluciones precisas dentro de $10^{-4}$ para los siguientes problemas.\n",
    "\n",
    "### a)\n",
    "$$x^3 - 2x^2 - 5 = 0, [1, 4]$$\n",
    "\n",
    "Se elige el punto inicial arbitrario dentro del intervalo. En este caso, se escoge $p_0 = 1$.\n",
    "\n",
    "Posteriormente, haciendo uso del método de la secante se obtiene:"
   ]
  },
  {
   "cell_type": "code",
   "execution_count": 5,
   "id": "d888450e-b51f-4815-bf8c-0eaca799f8f1",
   "metadata": {},
   "outputs": [
    {
     "name": "stdout",
     "output_type": "stream",
     "text": [
      "La solución precisa es: 2.6906474472020077\n"
     ]
    }
   ],
   "source": [
    "def func2(x):\n",
    "    return x**3-2*x**2-5\n",
    "p1 = newton(func = func2,x0=1,fprime=None,tol=1e-4)\n",
    "print(\"La solución precisa es: \" + str(p1))    "
   ]
  },
  {
   "cell_type": "markdown",
   "id": "c672150a-c43e-4cb6-9791-3c61f6a3681e",
   "metadata": {},
   "source": [
    "### b)\n",
    "$$x^3 - 3x^2 - 1 = 0, [-3, -2]$$\n",
    "\n",
    "Se elige el punto inicial arbitrario dentro del intervalo. En este caso, se escoge $p_0 = -3$.\n",
    "\n",
    "Posteriormente, haciendo uso del método de la secante se obtiene:"
   ]
  },
  {
   "cell_type": "code",
   "execution_count": 6,
   "id": "979d5a2a-ebcc-4b32-be45-60845b300d80",
   "metadata": {},
   "outputs": [
    {
     "name": "stdout",
     "output_type": "stream",
     "text": [
      "La solución precisa es: 3.1038033822157804\n"
     ]
    }
   ],
   "source": [
    "def func3(x):\n",
    "    return x**3-3*x**2-1\n",
    "    \n",
    "p1 = newton(func = func3,x0=-3,fprime=None,tol=1e-4)\n",
    "print(\"La solución precisa es: \" + str(p1))    "
   ]
  },
  {
   "cell_type": "markdown",
   "id": "35a916b1-498c-4042-b034-d054263c928a",
   "metadata": {},
   "source": [
    "### c)\n",
    "$$x - \\cos{x} = 0 , [0, \\frac{\\pi}{2}]$$\n",
    "\n",
    "Se elige el punto inicial arbitrario dentro del intervalo. En este caso, se escoge $p_0 = 0$.\n",
    "\n",
    "Posteriormente, haciendo uso del método de la secante se obtiene:"
   ]
  },
  {
   "cell_type": "code",
   "execution_count": 7,
   "id": "996e78f9-9705-41ed-901f-74c72e645269",
   "metadata": {},
   "outputs": [
    {
     "name": "stdout",
     "output_type": "stream",
     "text": [
      "La solución precisa es: 0.7390851121452099\n"
     ]
    }
   ],
   "source": [
    "def func4(x):\n",
    "    return x-math.cos(x)\n",
    "    \n",
    "p1 = newton(func = func4,x0=0,fprime=None,tol=1e-4)\n",
    "print(\"La solución precisa es: \" + str(p1))    "
   ]
  },
  {
   "cell_type": "markdown",
   "id": "ba46e0e5-ae8f-429c-8ebf-4f53f1803f4c",
   "metadata": {
    "jp-MarkdownHeadingCollapsed": true
   },
   "source": [
    "### d)\n",
    "$$x - \\cos{x} = 0 , [0, \\frac{\\pi}{2}]$$\n",
    "\n",
    "Se elige el punto inicial arbitrario dentro del intervalo. En este caso, se escoge $p_0 = 0$.\n",
    "\n",
    "Posteriormente, haciendo uso del método de la secante se obtiene:"
   ]
  },
  {
   "cell_type": "code",
   "execution_count": 8,
   "id": "dd238e28-c048-4816-a4e2-8c5318b582ff",
   "metadata": {},
   "outputs": [
    {
     "name": "stdout",
     "output_type": "stream",
     "text": [
      "La solución precisa es: 0.9643338895520454\n"
     ]
    }
   ],
   "source": [
    "def func5(x):\n",
    "    return x-0.8-0.2*math.sin(x)\n",
    "\n",
    "p1 = newton(func = func5,x0=0,fprime=None,tol=1e-4)\n",
    "print(\"La solución precisa es: \" + str(p1))\n",
    "        "
   ]
  },
  {
   "cell_type": "markdown",
   "id": "b49275e3-f39b-4eaa-b4ed-ba3f6f251276",
   "metadata": {},
   "source": [
    "## EJERCICIO 3\n",
    "\n",
    "Use los 2 métodos en esta sección para encontrar las soluciones dentro de $10^{-5}$ para los siguientes problemas.\n",
    "\n",
    "### a)\n",
    "$3x - e^{x} = 0 $ para $1\\leq x \\leq 2$\n"
   ]
  },
  {
   "cell_type": "code",
   "execution_count": 9,
   "id": "01be98aa-ebca-494d-be16-764e41b412aa",
   "metadata": {},
   "outputs": [
    {
     "name": "stdout",
     "output_type": "stream",
     "text": [
      "Método de Newton: p1 = 0.619061286735945\n",
      "Método de la Secante: p1 = 0.6190612855447449\n"
     ]
    }
   ],
   "source": [
    "def func(x):\n",
    "    return 3 * x - math.e ** x\n",
    "def fprime(x):\n",
    "    return 3 -  math.e ** x\n",
    "\n",
    "p1New = newton(func = func, x0 = 1 , fprime=fprime,tol = 1e-5)\n",
    "p1Sec = newton(func = func,x0=1,fprime=None,tol=1e-5)\n",
    "print(\"Método de Newton: p1 = \" + str(p1New))\n",
    "print(\"Método de la Secante: p1 = \" + str(p1Sec))"
   ]
  },
  {
   "cell_type": "markdown",
   "id": "8ebd5abc-6bbf-46ce-bab2-250e61fa8875",
   "metadata": {},
   "source": [
    "### b) \n",
    "$2x + 3\\cos{x} - e^{x}$ para $1\\leq x \\leq 2$"
   ]
  },
  {
   "cell_type": "code",
   "execution_count": 10,
   "id": "3e971159-6a09-4e41-be80-b7eef2a47d07",
   "metadata": {},
   "outputs": [
    {
     "name": "stdout",
     "output_type": "stream",
     "text": [
      "Método de Newton: p1 = 1.2397146979752212\n",
      "Método de la Secante: p1 = 1.2397146979773508\n"
     ]
    }
   ],
   "source": [
    "def func(x):\n",
    "    return 2 * x + 3 * math.cos(x) - math.e ** x\n",
    "def fprime(x):\n",
    "    return 2 - 3 * math.sin(x) - math.e ** x\n",
    "\n",
    "p1New = newton(func = func, x0 = 1.5 , fprime=fprime,tol = 1e-5)\n",
    "p1Sec = newton(func = func,x0=1.5,fprime=None,tol=1e-5)\n",
    "print(\"Método de Newton: p1 = \" + str(p1New))\n",
    "print(\"Método de la Secante: p1 = \" + str(p1Sec))"
   ]
  },
  {
   "cell_type": "markdown",
   "id": "4fe6e822-f489-4042-bfb1-64043e3deabd",
   "metadata": {},
   "source": [
    "## EJERCICIO 4\n",
    "El polinomio de cuarto grado\n",
    "$$f(x)=230x^{4}+18x^{3}+9x^{2}-221x-9$$\n",
    "tiene dos ceros reales, uno en $[-1,0]$ y el otro en $[0,1]$ intente aproximar estos ceros dentro de $10^{-6}$ con"
   ]
  },
  {
   "cell_type": "markdown",
   "id": "277839c1-2c99-48a0-b0ae-115363e3f953",
   "metadata": {},
   "source": [
    "### a) El método de la secante (use los extremos como las estimaciones iniciales)\n"
   ]
  },
  {
   "cell_type": "code",
   "execution_count": 11,
   "id": "4180d09d-2569-4d73-aef3-9f50330ee045",
   "metadata": {},
   "outputs": [
    {
     "name": "stdout",
     "output_type": "stream",
     "text": [
      "Método de la Secante: p1 = -0.0406592883157958\n"
     ]
    }
   ],
   "source": [
    "def func(x):\n",
    "    return 230 * x ** 4 + 18 * x ** 3 + 9 * x ** 2 - 221 * x - 9\n",
    "x0 = -1\n",
    "x1 = 0\n",
    "p1Sec = newton(func = func,x0=-1,fprime=None,tol=1e-5)\n",
    "print(\"Método de la Secante: p1 = \" + str(p1Sec))"
   ]
  },
  {
   "cell_type": "markdown",
   "id": "feac6395-4c9d-432e-af4a-968ff48ee166",
   "metadata": {},
   "source": [
    "### b) El método de Newton (use el punto medio como estimación inicial)"
   ]
  },
  {
   "cell_type": "code",
   "execution_count": 12,
   "id": "de581175-049d-4c53-91ba-9dd367883b3f",
   "metadata": {},
   "outputs": [
    {
     "name": "stdout",
     "output_type": "stream",
     "text": [
      "Método de Newton: p1 = -0.040659288315758865\n"
     ]
    }
   ],
   "source": [
    "def fprime(x):\n",
    "    return 920 * x ** 3 + 54 * x ** 2 + 18 * x - 221\n",
    "\n",
    "x0 = 0.5\n",
    "x1 = 1\n",
    "\n",
    "p1New = newton(func = func, x0 = 0.5 , fprime=fprime,tol = 1e-5)\n",
    "print(\"Método de Newton: p1 = \" + str(p1New))"
   ]
  },
  {
   "cell_type": "markdown",
   "id": "6943974c-5fd2-4a56-aa64-84a9a3941095",
   "metadata": {},
   "source": [
    "## EJERCICIO 5\n",
    "La función $f(x)= \\tan{\\pi}x-6$ tiene cero en: $\\frac{1}{\\pi}arcotangente 6 ≈ 0.447431543$. Sea $p_0 = 0$ y $p_1 = 0.48$ y use 10 iteraciones en cada uno de los siguientes métodos para aproximar esta raíz. ¿Cuál método es más eficaz y por qué? \n",
    "\n",
    "a. método de bisección \n",
    "\n",
    "b. método de Newton \n",
    "\n",
    "c. método de la secante "
   ]
  },
  {
   "cell_type": "markdown",
   "id": "79b8f551-4364-453a-9b67-e889fa3dc398",
   "metadata": {},
   "source": [
    "Como primer punto, graficamos y definimos la función correspodiente para aplicar los métodos solicitados:"
   ]
  },
  {
   "cell_type": "code",
   "execution_count": 13,
   "id": "e9fe2297-eaa6-41ac-8edf-ea944a2c40d0",
   "metadata": {},
   "outputs": [
    {
     "data": {
      "image/png": "[encoded data removed]",
      "text/plain": [
       "<Figure size 640x480 with 1 Axes>"
      ]
     },
     "metadata": {},
     "output_type": "display_data"
    }
   ],
   "source": [
    "import numpy as np\n",
    "import matplotlib.pyplot as plt\n",
    "\n",
    "def func(x):\n",
    "    return np.tan(np.pi * x) - 6\n",
    "\n",
    "x = np.linspace(0.01, 4.99, 1000)  \n",
    "y = func(x)\n",
    "\n",
    "plt.plot(x, y)\n",
    "plt.xlabel('x')\n",
    "plt.ylabel('y')\n",
    "plt.title(r'Plot of $f(x) = \\tan(\\pi x) - 6$')\n",
    "ax = plt.gca()\n",
    "ax.set_ylim([-10, 10])  \n",
    "ax.set_xlim([0, 5])     \n",
    "plt.grid(True)\n",
    "plt.show()\n"
   ]
  },
  {
   "cell_type": "markdown",
   "id": "64f29267-27e2-47d8-90f1-fc89bcd1acbc",
   "metadata": {},
   "source": [
    "### a) Método de Bisección"
   ]
  },
  {
   "cell_type": "code",
   "execution_count": 14,
   "id": "c916d871-77d8-46a3-96fe-5d92e6f32dda",
   "metadata": {},
   "outputs": [
    {
     "name": "stdout",
     "output_type": "stream",
     "text": [
      "ERROR: Failed to converge after 10 iterations.\n"
     ]
    }
   ],
   "source": [
    "a = 0\n",
    "b = 0.48\n",
    "\n",
    "from scipy.optimize import bisect\n",
    "\n",
    "try:\n",
    "    result = bisect(func, a, b, maxiter=10, full_output=True)\n",
    "except RuntimeError as e:\n",
    "    print('ERROR:', e)"
   ]
  },
  {
   "cell_type": "code",
   "execution_count": 15,
   "id": "c623ce7d-9ecc-4cbd-bd35-eb74d697ab5e",
   "metadata": {},
   "outputs": [
    {
     "data": {
      "text/plain": [
       "(0.44743154328956725,\n",
       "       converged: True\n",
       "            flag: converged\n",
       "  function_calls: 40\n",
       "      iterations: 38\n",
       "            root: 0.44743154328956725\n",
       "          method: bisect)"
      ]
     },
     "execution_count": 15,
     "metadata": {},
     "output_type": "execute_result"
    }
   ],
   "source": [
    "\n",
    "try:\n",
    "    result2 = bisect(func, a, b, maxiter=100, full_output=True)\n",
    "except RuntimeError as e:\n",
    "    print('ERROR:', e)\n",
    "\n",
    "result2"
   ]
  },
  {
   "cell_type": "markdown",
   "id": "25cd9477-64d1-467d-8b5a-2cf81dce45af",
   "metadata": {},
   "source": [
    "### b) Método de Newton"
   ]
  },
  {
   "cell_type": "code",
   "execution_count": 16,
   "id": "0f75eeed-3911-4dab-a9fb-8dc7fe733696",
   "metadata": {},
   "outputs": [
    {
     "data": {
      "text/plain": [
       "(5.447431543288746,\n",
       "       converged: True\n",
       "            flag: converged\n",
       "  function_calls: 16\n",
       "      iterations: 8\n",
       "            root: 5.447431543288746\n",
       "          method: newton)"
      ]
     },
     "execution_count": 16,
     "metadata": {},
     "output_type": "execute_result"
    }
   ],
   "source": [
    "def fprime(x):\n",
    "    return np.pi * (1 / np.cos(np.pi * x))**2\n",
    "p1New = newton(func = func, x0 = 0.24 , fprime=fprime,maxiter = 10,full_output=True)\n",
    "p1New"
   ]
  },
  {
   "cell_type": "code",
   "execution_count": 17,
   "id": "54c904b2-390a-47ac-a521-8ab69c13f0d6",
   "metadata": {},
   "outputs": [
    {
     "name": "stdout",
     "output_type": "stream",
     "text": [
      "ERROR: Failed to converge after 10 iterations, value is 3466452.4327915576.\n"
     ]
    }
   ],
   "source": [
    "try:\n",
    "    p1Sec = newton(func = func,x0=0.24,fprime=None,maxiter = 10,full_output=True)\n",
    "except RuntimeError as e:\n",
    "    print('ERROR:', e)"
   ]
  },
  {
   "cell_type": "markdown",
   "id": "f69c0862-3d6d-42d3-bd22-99b5a4723427",
   "metadata": {},
   "source": [
    "## EJERCICIO 6\n",
    "La función descrita por \n",
    "$$𝑓(𝑥) = ln(𝑥^2 + 1) − e^{0.4𝑥}cos(𝜋𝑥)$$  \n",
    "tiene un número infinito de ceros. \n",
    "\n",
    "a. Determine, dentro de $10^{−6}$, el único cero negativo. \n",
    "\n",
    "b. Determine, dentro de $10^{−6}$, los cuatro ceros positivos más pequeños. \n",
    "\n",
    "c. Determine una aproximación inicial razonable para encontrar el enésimo cero positivo más pequeño de $f$.\n",
    "\n",
    "d. Use la parte c) para determinar, dentro de $10^{−6}$, el vigesimoquinto cero positivo más pequeño de $f$."
   ]
  },
  {
   "cell_type": "code",
   "execution_count": 18,
   "id": "5f40f562-42dc-4811-ab2a-d8cabbda599b",
   "metadata": {},
   "outputs": [],
   "source": [
    "def f(x):\n",
    "    return np.log(x ** 2 + 1) - np.exp(0.4  * x) * np.cos(np.pi * x)\n",
    "\n",
    "def fprime(x):\n",
    "    return ((2 * x) / x ** 2 + 1) - 0.4 * np.exp(0.4 * x) * np.cos(np.pi * x) + np.pi * np.exp(0.4 * x) * np.sin(np.pi * x)\n"
   ]
  },
  {
   "cell_type": "markdown",
   "id": "144f6c51-5b33-4c3f-a5fa-ce73ee29c5f0",
   "metadata": {},
   "source": [
    "### a) Determine, dentro de $10^{−6}$, el único cero negativo. "
   ]
  },
  {
   "cell_type": "code",
   "execution_count": 19,
   "id": "82ec180e-f5e6-41d1-88f7-10ab4a00d7d8",
   "metadata": {},
   "outputs": [
    {
     "data": {
      "text/plain": [
       "(-0.4341424757919693,\n",
       "       converged: True\n",
       "            flag: converged\n",
       "  function_calls: 52\n",
       "      iterations: 26\n",
       "            root: -0.4341424757919693\n",
       "          method: newton)"
      ]
     },
     "execution_count": 19,
     "metadata": {},
     "output_type": "execute_result"
    }
   ],
   "source": [
    "tol = 1e-06\n",
    "x0 = -0.01\n",
    "\n",
    "newton(f,x0,fprime=fprime,tol=1e-06,full_output=True)\n"
   ]
  },
  {
   "cell_type": "markdown",
   "id": "ff225b53-0498-41f7-9c3f-f6e262e45b44",
   "metadata": {},
   "source": [
    "### b) Determine, dentro de $10^{−6}$, los cuatro ceros positivos más pequeños. \n"
   ]
  },
  {
   "cell_type": "code",
   "execution_count": 20,
   "id": "b3c0606e-ca6b-43b1-8db9-0d032a0ff992",
   "metadata": {},
   "outputs": [
    {
     "name": "stdout",
     "output_type": "stream",
     "text": [
      "La raiz aproximada es: p1 = 0.45065732924634816\n",
      "La raiz aproximada es: p2 = 0.45065585898262517\n",
      "La raiz aproximada es: p3 = 1.7447378996758833\n",
      "La raiz aproximada es: p4 = 2.2383199249663526\n"
     ]
    }
   ],
   "source": [
    "ceros = []\n",
    "x0 = 0.5\n",
    "for _ in range(4):\n",
    "    root = newton(f,x0,fprime=fprime,tol = 1e-06)\n",
    "    ceros.append(root)\n",
    "    x0 += 0.5\n",
    "\n",
    "\n",
    "for idx, root in enumerate(ceros, start=1):\n",
    "    print(f'La raiz aproximada es: p{idx} = {root}')\n"
   ]
  },
  {
   "cell_type": "markdown",
   "id": "5ea01bee",
   "metadata": {},
   "source": [
    "### c) Determine una aproximación inicial razonable para encontrar el enésimo cero positivo más pequeño de $f$.\n"
   ]
  },
  {
   "cell_type": "code",
   "execution_count": 21,
   "id": "d84a428e",
   "metadata": {},
   "outputs": [
    {
     "name": "stdout",
     "output_type": "stream",
     "text": [
      "La raiz aproximada es: p1 = 0.4506567582997215\n",
      "La raiz aproximada es: p2 = 0.4506567593385777\n",
      "La raiz aproximada es: p3 = 0.45065673558318053\n",
      "La raiz aproximada es: p4 = 2.2383197956535206\n",
      "La raiz aproximada es: p5 = 1.7447380509820627\n",
      "La raiz aproximada es: p6 = 1.74473804949828\n",
      "La raiz aproximada es: p7 = 8.453480976984618\n",
      "La raiz aproximada es: p8 = 2.238319794451469\n",
      "La raiz aproximada es: p9 = 2.238319796225593\n",
      "La raiz aproximada es: p10 = 2.2383197958116674\n"
     ]
    }
   ],
   "source": [
    "enesimoCero = []\n",
    "x0 = 0.75\n",
    "for _ in range(10):\n",
    "    root = newton(f,x0,fprime=fprime, maxiter= 100)\n",
    "    enesimoCero.append(root)\n",
    "    x0 += 0.2\n",
    "\n",
    "\n",
    "for idx, root in enumerate(enesimoCero, start=1):\n",
    "    print(f'La raiz aproximada es: p{idx} = {root}')"
   ]
  },
  {
   "cell_type": "markdown",
   "id": "9bf9031d",
   "metadata": {},
   "source": [
    "### d) Use la parte c) para determinar, dentro de $10^{−6}$, el vigesimoquinto cero positivo más pequeño de $f$."
   ]
  },
  {
   "cell_type": "markdown",
   "id": "5d654456",
   "metadata": {},
   "source": [
    "**GitHub:** git@github.com: dayapt04\n",
    "\n",
    "\n",
    "\n",
    "[GitHub Métodos Númericos - Repositorio](https://github.com/dayapt04/MetodosNumericos)"
   ]
  },
  {
   "cell_type": "code",
   "execution_count": 22,
   "id": "029c6753",
   "metadata": {},
   "outputs": [
    {
     "name": "stdout",
     "output_type": "stream",
     "text": [
      "La raiz aproximada es: p1 = 0.45065781194276217\n",
      "La raiz aproximada es: p2 = 0.4506573521175441\n",
      "La raiz aproximada es: p3 = 0.4506560983753875\n",
      "La raiz aproximada es: p4 = 2.2383198958207964\n",
      "La raiz aproximada es: p5 = 1.7447382064368515\n",
      "La raiz aproximada es: p6 = 1.7447383015946802\n",
      "La raiz aproximada es: p7 = 8.45348097738637\n",
      "La raiz aproximada es: p8 = 2.2383196868003163\n",
      "La raiz aproximada es: p9 = 2.2383199952962194\n",
      "La raiz aproximada es: p10 = 2.2383199233203115\n",
      "La raiz aproximada es: p11 = 2.2383198656962455\n",
      "La raiz aproximada es: p12 = 1.7447381861857476\n",
      "La raiz aproximada es: p13 = 5.619935305378205\n",
      "La raiz aproximada es: p14 = 3.7090411622803936\n",
      "La raiz aproximada es: p15 = 3.7090412127803596\n",
      "La raiz aproximada es: p16 = 3.70904125603659\n",
      "La raiz aproximada es: p17 = 4.322648977690657\n",
      "La raiz aproximada es: p18 = 4.322648975706081\n",
      "La raiz aproximada es: p19 = 4.322649013916713\n",
      "La raiz aproximada es: p20 = 4.322648964397358\n",
      "La raiz aproximada es: p21 = 4.322648951374646\n",
      "La raiz aproximada es: p22 = 3.7090411546273176\n",
      "La raiz aproximada es: p23 = 6.406933621149631\n",
      "La raiz aproximada es: p24 = 5.619935320337745\n",
      "La raiz aproximada es: p25 = 5.61993533583606\n"
     ]
    }
   ],
   "source": [
    "vigesimoquinto = []\n",
    "x0 = 0.75\n",
    "for _ in range(25):\n",
    "    root = newton(f,x0,fprime=fprime, maxiter= 100,tol=1e-6)\n",
    "    vigesimoquinto.append(root)\n",
    "    x0 += 0.2\n",
    "\n",
    "\n",
    "for idx, root in enumerate(vigesimoquinto, start=1):\n",
    "    print(f'La raiz aproximada es: p{idx} = {root}')"
   ]
  },
  {
   "cell_type": "markdown",
   "id": "2b49ad2b-c9cd-4eec-9553-89e6f73a4e36",
   "metadata": {},
   "source": [
    "## EJERCICIO 7\n",
    "La función $f(𝑥) =𝑥^{\\frac{1}{3}}$\n",
    "tiene raíz en $𝑥 = 0$. Usando el punto de inicio de $𝑥 = 1$ y $𝑝_0 = 5$, $𝑝_1 = 0.5$ para el método de secante, compare los resultados de los métodos de la secante y de Newton.  "
   ]
  },
  {
   "cell_type": "code",
   "execution_count": 23,
   "metadata": {},
   "outputs": [
    {
     "name": "stdout",
     "output_type": "stream",
     "text": [
      "ERROR: Derivative was zero. Failed to converge after 514 iterations, value is -2.6815615859885194e+154.\n",
      "Método de Newton: p1 = (5.447431543288746,       converged: True\n",
      "           flag: converged\n",
      " function_calls: 16\n",
      "     iterations: 8\n",
      "           root: 5.447431543288746\n",
      "         method: newton)\n",
      "Método de la Secante: p1 = -0.0406592883157958\n"
     ]
    },
    {
     "name": "stderr",
     "output_type": "stream",
     "text": [
      "C:\\Users\\Dayana\\AppData\\Local\\Temp\\ipykernel_26612\\333528476.py:11: RuntimeWarning: overflow encountered in scalar power\n",
      "  return 1 / (3 * np.cbrt(x**2))  # Derivada de x^(1/3)\n"
     ]
    }
   ],
   "source": [
    "import numpy as np\n",
    "\n",
    "# Función a evaluar\n",
    "def func(x):\n",
    "    return np.cbrt(x)  # Raíz cúbica segura para números reales\n",
    "\n",
    "# Derivada de la función\n",
    "def fprime(x):\n",
    "    if x == 0:  # Para evitar división por cero\n",
    "        return float('inf')\n",
    "    return 1 / (3 * np.cbrt(x**2))  # Derivada de x^(1/3)\n",
    "\n",
    "x = 1\n",
    "p0=5\n",
    "p1=0.5\n",
    "\n",
    "try:\n",
    "    p1New = newton(func = func, x0 = x , fprime=fprime,maxiter=1000)\n",
    "    p1Sec = newton(func = func,x0=p0,x1=p1,fprime=None,tol=1e-5,maxiter=1000)\n",
    "except RuntimeError as e:\n",
    "    print('ERROR:', e)\n",
    "\n",
    "\n",
    "print(\"Método de Newton: p1 = \" + str(p1New))\n",
    "print(\"Método de la Secante: p1 = \" + str(p1Sec))"
   ]
  },
  {
   "cell_type": "code",
   "execution_count": 24,
   "id": "80ec8d0c",
   "metadata": {},
   "outputs": [
    {
     "name": "stdout",
     "output_type": "stream",
     "text": [
      "Error en el método de Newton: Derivative was zero. Failed to converge after 1023 iterations, value is inf.\n",
      "Error en el método de la Secante: Failed to converge after 1000 iterations, value is -0.15125956067017965.\n"
     ]
    },
    {
     "name": "stderr",
     "output_type": "stream",
     "text": [
      "C:\\Users\\Dayana\\anaconda3\\Lib\\site-packages\\scipy\\optimize\\_zeros_py.py:326: RuntimeWarning: overflow encountered in scalar divide\n",
      "  newton_step = fval / fder\n"
     ]
    }
   ],
   "source": [
    "from scipy.optimize import newton\n",
    "import numpy as np\n",
    "\n",
    "# Función a evaluar\n",
    "def func(x):\n",
    "    return np.cbrt(x)  # Raíz cúbica segura para números reales\n",
    "\n",
    "# Derivada de la función\n",
    "def fprime(x):\n",
    "    return 1 / (3 * (np.cbrt(x)**2))  # Forma segura de calcular la derivada\n",
    "\n",
    "# Valores iniciales\n",
    "x = 5\n",
    "p0 = 5\n",
    "p1 = 0.5\n",
    "\n",
    "# Método de Newton\n",
    "try:\n",
    "    p1New = newton(func=func, x0=x, fprime=fprime, maxiter=10000, tol=1e-6)\n",
    "    print(\"Método de Newton: p1 = \" + str(p1New))\n",
    "except RuntimeError as e:\n",
    "    print(\"Error en el método de Newton:\", e)\n",
    "\n",
    "# Método de la Secante (sin derivada)\n",
    "try:\n",
    "    p1Sec = newton(func=func, x0=p0, x1=p1, fprime=None, tol=1e-6, maxiter=1000)\n",
    "    print(\"Método de la Secante: p1 = \" + str(p1Sec))\n",
    "except RuntimeError as e:\n",
    "    print(\"Error en el método de la Secante:\", e)\n"
   ]
  },
  {
   "cell_type": "markdown",
   "id": "5923fa60",
   "metadata": {},
   "source": [
    "**GitHub:** git@github.com: dayapt04\n",
    "\n",
    "\n",
    "\n",
    "[GitHub Métodos Númericos - Repositorio](https://github.com/dayapt04/MN_Deber05)"
   ]
  }
 ],
 "metadata": {
  "kernelspec": {
   "display_name": "Python 3 (ipykernel)",
   "language": "python",
   "name": "python3"
  },
  "language_info": {
   "codemirror_mode": {
    "name": "ipython",
    "version": 3
   },
   "file_extension": ".py",
   "mimetype": "text/x-python",
   "name": "python",
   "nbconvert_exporter": "python",
   "pygments_lexer": "ipython3",
   "version": "3.12.4"
  }
 },
 "nbformat": 4,
 "nbformat_minor": 5
}
